{
 "cells": [
  {
   "cell_type": "markdown",
   "metadata": {},
   "source": [
    "# Project 4 - Hackathon\n",
    "\n",
    "### Problem Statement\n",
    "\n",
    "Using posts from PersonalityCafe.com, predict the users Myers-Briggs personality type. \n",
    "\n",
    "Data source: https://www.kaggle.com/datasnaek/mbti-type\n",
    "\n",
    "### Exploratory Data Analysis"
   ]
  },
  {
   "cell_type": "code",
   "execution_count": 34,
   "metadata": {},
   "outputs": [],
   "source": [
    "import pandas as pd\n",
    "import numpy as np\n",
    "import matplotlib.pyplot as plt\n",
    "import seaborn as sns\n",
    "\n",
    "plt.style.use('ggplot')\n",
    "\n",
    "from sklearn.feature_extraction.text import CountVectorizer, TfidfVectorizer\n",
    "from sklearn.model_selection import train_test_split, GridSearchCV\n",
    "from sklearn.naive_bayes import MultinomialNB\n",
    "from sklearn.pipeline import make_pipeline\n",
    "from sklearn.ensemble import RandomForestClassifier\n",
    "\n",
    "import warnings\n",
    "warnings.filterwarnings(\"ignore\")"
   ]
  },
  {
   "cell_type": "code",
   "execution_count": 2,
   "metadata": {},
   "outputs": [],
   "source": [
    "mb_df = pd.read_csv('../../../large-data/mbti_1.csv')"
   ]
  },
  {
   "cell_type": "code",
   "execution_count": 3,
   "metadata": {},
   "outputs": [
    {
     "data": {
      "text/html": [
       "<div>\n",
       "<style scoped>\n",
       "    .dataframe tbody tr th:only-of-type {\n",
       "        vertical-align: middle;\n",
       "    }\n",
       "\n",
       "    .dataframe tbody tr th {\n",
       "        vertical-align: top;\n",
       "    }\n",
       "\n",
       "    .dataframe thead th {\n",
       "        text-align: right;\n",
       "    }\n",
       "</style>\n",
       "<table border=\"1\" class=\"dataframe\">\n",
       "  <thead>\n",
       "    <tr style=\"text-align: right;\">\n",
       "      <th></th>\n",
       "      <th>type</th>\n",
       "      <th>posts</th>\n",
       "    </tr>\n",
       "  </thead>\n",
       "  <tbody>\n",
       "    <tr>\n",
       "      <th>0</th>\n",
       "      <td>INFJ</td>\n",
       "      <td>'http://www.youtube.com/watch?v=qsXHcwe3krw|||...</td>\n",
       "    </tr>\n",
       "    <tr>\n",
       "      <th>1</th>\n",
       "      <td>ENTP</td>\n",
       "      <td>'I'm finding the lack of me in these posts ver...</td>\n",
       "    </tr>\n",
       "    <tr>\n",
       "      <th>2</th>\n",
       "      <td>INTP</td>\n",
       "      <td>'Good one  _____   https://www.youtube.com/wat...</td>\n",
       "    </tr>\n",
       "    <tr>\n",
       "      <th>3</th>\n",
       "      <td>INTJ</td>\n",
       "      <td>'Dear INTP,   I enjoyed our conversation the o...</td>\n",
       "    </tr>\n",
       "    <tr>\n",
       "      <th>4</th>\n",
       "      <td>ENTJ</td>\n",
       "      <td>'You're fired.|||That's another silly misconce...</td>\n",
       "    </tr>\n",
       "  </tbody>\n",
       "</table>\n",
       "</div>"
      ],
      "text/plain": [
       "   type                                              posts\n",
       "0  INFJ  'http://www.youtube.com/watch?v=qsXHcwe3krw|||...\n",
       "1  ENTP  'I'm finding the lack of me in these posts ver...\n",
       "2  INTP  'Good one  _____   https://www.youtube.com/wat...\n",
       "3  INTJ  'Dear INTP,   I enjoyed our conversation the o...\n",
       "4  ENTJ  'You're fired.|||That's another silly misconce..."
      ]
     },
     "execution_count": 3,
     "metadata": {},
     "output_type": "execute_result"
    }
   ],
   "source": [
    "mb_df.head()"
   ]
  },
  {
   "cell_type": "code",
   "execution_count": 4,
   "metadata": {},
   "outputs": [
    {
     "name": "stdout",
     "output_type": "stream",
     "text": [
      "<class 'pandas.core.frame.DataFrame'>\n",
      "RangeIndex: 8675 entries, 0 to 8674\n",
      "Data columns (total 2 columns):\n",
      " #   Column  Non-Null Count  Dtype \n",
      "---  ------  --------------  ----- \n",
      " 0   type    8675 non-null   object\n",
      " 1   posts   8675 non-null   object\n",
      "dtypes: object(2)\n",
      "memory usage: 135.7+ KB\n"
     ]
    }
   ],
   "source": [
    "mb_df.info()"
   ]
  },
  {
   "cell_type": "code",
   "execution_count": 5,
   "metadata": {},
   "outputs": [],
   "source": [
    "mb_df['post_length'] = mb_df['posts'].str.split().str.len()"
   ]
  },
  {
   "cell_type": "code",
   "execution_count": 6,
   "metadata": {},
   "outputs": [
    {
     "data": {
      "text/html": [
       "<div>\n",
       "<style scoped>\n",
       "    .dataframe tbody tr th:only-of-type {\n",
       "        vertical-align: middle;\n",
       "    }\n",
       "\n",
       "    .dataframe tbody tr th {\n",
       "        vertical-align: top;\n",
       "    }\n",
       "\n",
       "    .dataframe thead th {\n",
       "        text-align: right;\n",
       "    }\n",
       "</style>\n",
       "<table border=\"1\" class=\"dataframe\">\n",
       "  <thead>\n",
       "    <tr style=\"text-align: right;\">\n",
       "      <th></th>\n",
       "      <th>post_length</th>\n",
       "    </tr>\n",
       "  </thead>\n",
       "  <tbody>\n",
       "    <tr>\n",
       "      <th>count</th>\n",
       "      <td>8675.000000</td>\n",
       "    </tr>\n",
       "    <tr>\n",
       "      <th>mean</th>\n",
       "      <td>1226.241499</td>\n",
       "    </tr>\n",
       "    <tr>\n",
       "      <th>std</th>\n",
       "      <td>311.210544</td>\n",
       "    </tr>\n",
       "    <tr>\n",
       "      <th>min</th>\n",
       "      <td>4.000000</td>\n",
       "    </tr>\n",
       "    <tr>\n",
       "      <th>25%</th>\n",
       "      <td>1046.500000</td>\n",
       "    </tr>\n",
       "    <tr>\n",
       "      <th>50%</th>\n",
       "      <td>1278.000000</td>\n",
       "    </tr>\n",
       "    <tr>\n",
       "      <th>75%</th>\n",
       "      <td>1457.000000</td>\n",
       "    </tr>\n",
       "    <tr>\n",
       "      <th>max</th>\n",
       "      <td>1881.000000</td>\n",
       "    </tr>\n",
       "  </tbody>\n",
       "</table>\n",
       "</div>"
      ],
      "text/plain": [
       "       post_length\n",
       "count  8675.000000\n",
       "mean   1226.241499\n",
       "std     311.210544\n",
       "min       4.000000\n",
       "25%    1046.500000\n",
       "50%    1278.000000\n",
       "75%    1457.000000\n",
       "max    1881.000000"
      ]
     },
     "execution_count": 6,
     "metadata": {},
     "output_type": "execute_result"
    }
   ],
   "source": [
    "mb_df.describe()"
   ]
  },
  {
   "cell_type": "code",
   "execution_count": 7,
   "metadata": {},
   "outputs": [],
   "source": [
    "mb_df['intro_vs_extro'] = np.where(mb_df['type'].str.startswith('I'), 'I', 'E')"
   ]
  },
  {
   "cell_type": "code",
   "execution_count": 8,
   "metadata": {},
   "outputs": [
    {
     "data": {
      "text/html": [
       "<div>\n",
       "<style scoped>\n",
       "    .dataframe tbody tr th:only-of-type {\n",
       "        vertical-align: middle;\n",
       "    }\n",
       "\n",
       "    .dataframe tbody tr th {\n",
       "        vertical-align: top;\n",
       "    }\n",
       "\n",
       "    .dataframe thead tr th {\n",
       "        text-align: left;\n",
       "    }\n",
       "\n",
       "    .dataframe thead tr:last-of-type th {\n",
       "        text-align: right;\n",
       "    }\n",
       "</style>\n",
       "<table border=\"1\" class=\"dataframe\">\n",
       "  <thead>\n",
       "    <tr>\n",
       "      <th></th>\n",
       "      <th colspan=\"8\" halign=\"left\">post_length</th>\n",
       "    </tr>\n",
       "    <tr>\n",
       "      <th></th>\n",
       "      <th>count</th>\n",
       "      <th>mean</th>\n",
       "      <th>std</th>\n",
       "      <th>min</th>\n",
       "      <th>25%</th>\n",
       "      <th>50%</th>\n",
       "      <th>75%</th>\n",
       "      <th>max</th>\n",
       "    </tr>\n",
       "    <tr>\n",
       "      <th>intro_vs_extro</th>\n",
       "      <th></th>\n",
       "      <th></th>\n",
       "      <th></th>\n",
       "      <th></th>\n",
       "      <th></th>\n",
       "      <th></th>\n",
       "      <th></th>\n",
       "      <th></th>\n",
       "    </tr>\n",
       "  </thead>\n",
       "  <tbody>\n",
       "    <tr>\n",
       "      <th>E</th>\n",
       "      <td>1999.0</td>\n",
       "      <td>1229.435218</td>\n",
       "      <td>301.110542</td>\n",
       "      <td>38.0</td>\n",
       "      <td>1061.5</td>\n",
       "      <td>1271.0</td>\n",
       "      <td>1449.0</td>\n",
       "      <td>1881.0</td>\n",
       "    </tr>\n",
       "    <tr>\n",
       "      <th>I</th>\n",
       "      <td>6676.0</td>\n",
       "      <td>1225.285201</td>\n",
       "      <td>314.187376</td>\n",
       "      <td>4.0</td>\n",
       "      <td>1044.0</td>\n",
       "      <td>1280.0</td>\n",
       "      <td>1459.0</td>\n",
       "      <td>1861.0</td>\n",
       "    </tr>\n",
       "  </tbody>\n",
       "</table>\n",
       "</div>"
      ],
      "text/plain": [
       "               post_length                                                 \\\n",
       "                     count         mean         std   min     25%     50%   \n",
       "intro_vs_extro                                                              \n",
       "E                   1999.0  1229.435218  301.110542  38.0  1061.5  1271.0   \n",
       "I                   6676.0  1225.285201  314.187376   4.0  1044.0  1280.0   \n",
       "\n",
       "                                \n",
       "                   75%     max  \n",
       "intro_vs_extro                  \n",
       "E               1449.0  1881.0  \n",
       "I               1459.0  1861.0  "
      ]
     },
     "execution_count": 8,
     "metadata": {},
     "output_type": "execute_result"
    }
   ],
   "source": [
    "mb_df.groupby(by='intro_vs_extro').describe()"
   ]
  },
  {
   "cell_type": "code",
   "execution_count": 9,
   "metadata": {},
   "outputs": [
    {
     "data": {
      "text/html": [
       "<div>\n",
       "<style scoped>\n",
       "    .dataframe tbody tr th:only-of-type {\n",
       "        vertical-align: middle;\n",
       "    }\n",
       "\n",
       "    .dataframe tbody tr th {\n",
       "        vertical-align: top;\n",
       "    }\n",
       "\n",
       "    .dataframe thead tr th {\n",
       "        text-align: left;\n",
       "    }\n",
       "\n",
       "    .dataframe thead tr:last-of-type th {\n",
       "        text-align: right;\n",
       "    }\n",
       "</style>\n",
       "<table border=\"1\" class=\"dataframe\">\n",
       "  <thead>\n",
       "    <tr>\n",
       "      <th></th>\n",
       "      <th colspan=\"8\" halign=\"left\">post_length</th>\n",
       "    </tr>\n",
       "    <tr>\n",
       "      <th></th>\n",
       "      <th>count</th>\n",
       "      <th>mean</th>\n",
       "      <th>std</th>\n",
       "      <th>min</th>\n",
       "      <th>25%</th>\n",
       "      <th>50%</th>\n",
       "      <th>75%</th>\n",
       "      <th>max</th>\n",
       "    </tr>\n",
       "    <tr>\n",
       "      <th>type</th>\n",
       "      <th></th>\n",
       "      <th></th>\n",
       "      <th></th>\n",
       "      <th></th>\n",
       "      <th></th>\n",
       "      <th></th>\n",
       "      <th></th>\n",
       "      <th></th>\n",
       "    </tr>\n",
       "  </thead>\n",
       "  <tbody>\n",
       "    <tr>\n",
       "      <th>ENFJ</th>\n",
       "      <td>190.0</td>\n",
       "      <td>1286.584211</td>\n",
       "      <td>311.070979</td>\n",
       "      <td>180.0</td>\n",
       "      <td>1141.25</td>\n",
       "      <td>1349.5</td>\n",
       "      <td>1518.00</td>\n",
       "      <td>1813.0</td>\n",
       "    </tr>\n",
       "    <tr>\n",
       "      <th>ENFP</th>\n",
       "      <td>675.0</td>\n",
       "      <td>1260.770370</td>\n",
       "      <td>299.493864</td>\n",
       "      <td>38.0</td>\n",
       "      <td>1107.50</td>\n",
       "      <td>1300.0</td>\n",
       "      <td>1476.00</td>\n",
       "      <td>1881.0</td>\n",
       "    </tr>\n",
       "    <tr>\n",
       "      <th>ENTJ</th>\n",
       "      <td>231.0</td>\n",
       "      <td>1218.086580</td>\n",
       "      <td>289.929199</td>\n",
       "      <td>325.0</td>\n",
       "      <td>1057.50</td>\n",
       "      <td>1255.0</td>\n",
       "      <td>1423.50</td>\n",
       "      <td>1790.0</td>\n",
       "    </tr>\n",
       "    <tr>\n",
       "      <th>ENTP</th>\n",
       "      <td>685.0</td>\n",
       "      <td>1205.995620</td>\n",
       "      <td>280.742356</td>\n",
       "      <td>152.0</td>\n",
       "      <td>1035.00</td>\n",
       "      <td>1242.0</td>\n",
       "      <td>1413.00</td>\n",
       "      <td>1785.0</td>\n",
       "    </tr>\n",
       "    <tr>\n",
       "      <th>ESFJ</th>\n",
       "      <td>42.0</td>\n",
       "      <td>1290.476190</td>\n",
       "      <td>352.000155</td>\n",
       "      <td>365.0</td>\n",
       "      <td>1047.00</td>\n",
       "      <td>1318.5</td>\n",
       "      <td>1561.25</td>\n",
       "      <td>1766.0</td>\n",
       "    </tr>\n",
       "    <tr>\n",
       "      <th>ESFP</th>\n",
       "      <td>48.0</td>\n",
       "      <td>1022.125000</td>\n",
       "      <td>390.542646</td>\n",
       "      <td>223.0</td>\n",
       "      <td>722.50</td>\n",
       "      <td>1106.0</td>\n",
       "      <td>1352.75</td>\n",
       "      <td>1627.0</td>\n",
       "    </tr>\n",
       "    <tr>\n",
       "      <th>ESTJ</th>\n",
       "      <td>39.0</td>\n",
       "      <td>1229.538462</td>\n",
       "      <td>299.357456</td>\n",
       "      <td>553.0</td>\n",
       "      <td>1028.50</td>\n",
       "      <td>1284.0</td>\n",
       "      <td>1415.00</td>\n",
       "      <td>1840.0</td>\n",
       "    </tr>\n",
       "    <tr>\n",
       "      <th>ESTP</th>\n",
       "      <td>89.0</td>\n",
       "      <td>1162.595506</td>\n",
       "      <td>323.428112</td>\n",
       "      <td>249.0</td>\n",
       "      <td>951.00</td>\n",
       "      <td>1218.0</td>\n",
       "      <td>1406.00</td>\n",
       "      <td>1782.0</td>\n",
       "    </tr>\n",
       "    <tr>\n",
       "      <th>INFJ</th>\n",
       "      <td>1470.0</td>\n",
       "      <td>1278.431973</td>\n",
       "      <td>300.772498</td>\n",
       "      <td>72.0</td>\n",
       "      <td>1112.00</td>\n",
       "      <td>1335.5</td>\n",
       "      <td>1502.75</td>\n",
       "      <td>1833.0</td>\n",
       "    </tr>\n",
       "    <tr>\n",
       "      <th>INFP</th>\n",
       "      <td>1832.0</td>\n",
       "      <td>1244.552948</td>\n",
       "      <td>308.971901</td>\n",
       "      <td>4.0</td>\n",
       "      <td>1068.00</td>\n",
       "      <td>1296.0</td>\n",
       "      <td>1471.25</td>\n",
       "      <td>1849.0</td>\n",
       "    </tr>\n",
       "    <tr>\n",
       "      <th>INTJ</th>\n",
       "      <td>1091.0</td>\n",
       "      <td>1194.577452</td>\n",
       "      <td>317.760602</td>\n",
       "      <td>69.0</td>\n",
       "      <td>1007.00</td>\n",
       "      <td>1247.0</td>\n",
       "      <td>1433.50</td>\n",
       "      <td>1861.0</td>\n",
       "    </tr>\n",
       "    <tr>\n",
       "      <th>INTP</th>\n",
       "      <td>1304.0</td>\n",
       "      <td>1197.763037</td>\n",
       "      <td>305.401943</td>\n",
       "      <td>42.0</td>\n",
       "      <td>1002.75</td>\n",
       "      <td>1246.5</td>\n",
       "      <td>1427.25</td>\n",
       "      <td>1804.0</td>\n",
       "    </tr>\n",
       "    <tr>\n",
       "      <th>ISFJ</th>\n",
       "      <td>166.0</td>\n",
       "      <td>1241.295181</td>\n",
       "      <td>357.269803</td>\n",
       "      <td>21.0</td>\n",
       "      <td>1057.00</td>\n",
       "      <td>1319.0</td>\n",
       "      <td>1508.50</td>\n",
       "      <td>1795.0</td>\n",
       "    </tr>\n",
       "    <tr>\n",
       "      <th>ISFP</th>\n",
       "      <td>271.0</td>\n",
       "      <td>1136.383764</td>\n",
       "      <td>339.308480</td>\n",
       "      <td>58.0</td>\n",
       "      <td>949.50</td>\n",
       "      <td>1200.0</td>\n",
       "      <td>1394.50</td>\n",
       "      <td>1737.0</td>\n",
       "    </tr>\n",
       "    <tr>\n",
       "      <th>ISTJ</th>\n",
       "      <td>205.0</td>\n",
       "      <td>1213.224390</td>\n",
       "      <td>329.308795</td>\n",
       "      <td>178.0</td>\n",
       "      <td>1049.00</td>\n",
       "      <td>1268.0</td>\n",
       "      <td>1466.00</td>\n",
       "      <td>1785.0</td>\n",
       "    </tr>\n",
       "    <tr>\n",
       "      <th>ISTP</th>\n",
       "      <td>337.0</td>\n",
       "      <td>1165.563798</td>\n",
       "      <td>323.228583</td>\n",
       "      <td>51.0</td>\n",
       "      <td>964.00</td>\n",
       "      <td>1221.0</td>\n",
       "      <td>1408.00</td>\n",
       "      <td>1781.0</td>\n",
       "    </tr>\n",
       "  </tbody>\n",
       "</table>\n",
       "</div>"
      ],
      "text/plain": [
       "     post_length                                                            \\\n",
       "           count         mean         std    min      25%     50%      75%   \n",
       "type                                                                         \n",
       "ENFJ       190.0  1286.584211  311.070979  180.0  1141.25  1349.5  1518.00   \n",
       "ENFP       675.0  1260.770370  299.493864   38.0  1107.50  1300.0  1476.00   \n",
       "ENTJ       231.0  1218.086580  289.929199  325.0  1057.50  1255.0  1423.50   \n",
       "ENTP       685.0  1205.995620  280.742356  152.0  1035.00  1242.0  1413.00   \n",
       "ESFJ        42.0  1290.476190  352.000155  365.0  1047.00  1318.5  1561.25   \n",
       "ESFP        48.0  1022.125000  390.542646  223.0   722.50  1106.0  1352.75   \n",
       "ESTJ        39.0  1229.538462  299.357456  553.0  1028.50  1284.0  1415.00   \n",
       "ESTP        89.0  1162.595506  323.428112  249.0   951.00  1218.0  1406.00   \n",
       "INFJ      1470.0  1278.431973  300.772498   72.0  1112.00  1335.5  1502.75   \n",
       "INFP      1832.0  1244.552948  308.971901    4.0  1068.00  1296.0  1471.25   \n",
       "INTJ      1091.0  1194.577452  317.760602   69.0  1007.00  1247.0  1433.50   \n",
       "INTP      1304.0  1197.763037  305.401943   42.0  1002.75  1246.5  1427.25   \n",
       "ISFJ       166.0  1241.295181  357.269803   21.0  1057.00  1319.0  1508.50   \n",
       "ISFP       271.0  1136.383764  339.308480   58.0   949.50  1200.0  1394.50   \n",
       "ISTJ       205.0  1213.224390  329.308795  178.0  1049.00  1268.0  1466.00   \n",
       "ISTP       337.0  1165.563798  323.228583   51.0   964.00  1221.0  1408.00   \n",
       "\n",
       "              \n",
       "         max  \n",
       "type          \n",
       "ENFJ  1813.0  \n",
       "ENFP  1881.0  \n",
       "ENTJ  1790.0  \n",
       "ENTP  1785.0  \n",
       "ESFJ  1766.0  \n",
       "ESFP  1627.0  \n",
       "ESTJ  1840.0  \n",
       "ESTP  1782.0  \n",
       "INFJ  1833.0  \n",
       "INFP  1849.0  \n",
       "INTJ  1861.0  \n",
       "INTP  1804.0  \n",
       "ISFJ  1795.0  \n",
       "ISFP  1737.0  \n",
       "ISTJ  1785.0  \n",
       "ISTP  1781.0  "
      ]
     },
     "execution_count": 9,
     "metadata": {},
     "output_type": "execute_result"
    }
   ],
   "source": [
    "mb_df.groupby(by='type').describe()"
   ]
  },
  {
   "cell_type": "code",
   "execution_count": 10,
   "metadata": {},
   "outputs": [
    {
     "data": {
      "image/png": "[encoded data removed]",
      "text/plain": [
       "<Figure size 720x432 with 1 Axes>"
      ]
     },
     "metadata": {},
     "output_type": "display_data"
    }
   ],
   "source": [
    "plt.subplots(figsize=(10,6))\n",
    "sns.countplot(x = mb_df['type'].sort_values())\n",
    "plt.title('Post Count by Personality Type')\n",
    "plt.xlabel('Personality Type');"
   ]
  },
  {
   "cell_type": "markdown",
   "metadata": {},
   "source": [
    "**Post Count by Personality Type:** Above, it is clear that the 4 personality types that we have the most information on are INFJ, INFP, INTJ, and INTP. We will probably have a harder time predicting ESFJ, ESFP, ESTP, and ESTP, since we have very few posts from each of these types. This is a good indicator that we should stratify our train test split data."
   ]
  },
  {
   "cell_type": "code",
   "execution_count": 11,
   "metadata": {},
   "outputs": [
    {
     "data": {
      "image/png": "[encoded data removed]",
      "text/plain": [
       "<Figure size 720x432 with 1 Axes>"
      ]
     },
     "metadata": {},
     "output_type": "display_data"
    }
   ],
   "source": [
    "plt.subplots(figsize=(10,6))\n",
    "mb_df.groupby('type')['post_length'].mean().plot(kind='bar')\n",
    "plt.title('Average Post Length by Personality Type')\n",
    "plt.xlabel('Personality Type');"
   ]
  },
  {
   "cell_type": "markdown",
   "metadata": {},
   "source": [
    "**Average Post Length by Personality Type:** There aren't many distinctions here, besides ESFP which has visibly shorter posts. "
   ]
  },
  {
   "cell_type": "code",
   "execution_count": 12,
   "metadata": {},
   "outputs": [
    {
     "data": {
      "image/png": "[encoded data removed]",
      "text/plain": [
       "<Figure size 720x360 with 2 Axes>"
      ]
     },
     "metadata": {},
     "output_type": "display_data"
    }
   ],
   "source": [
    "g = sns.displot(data=mb_df, x='post_length', col='intro_vs_extro', color='teal')\n",
    "g.set_axis_labels('Word Count Total', 'Count');"
   ]
  },
  {
   "cell_type": "code",
   "execution_count": 13,
   "metadata": {},
   "outputs": [],
   "source": [
    "cvect = CountVectorizer()"
   ]
  },
  {
   "cell_type": "code",
   "execution_count": 14,
   "metadata": {},
   "outputs": [],
   "source": [
    "posts_vect = cvect.fit_transform(mb_df['posts'])"
   ]
  },
  {
   "cell_type": "code",
   "execution_count": 15,
   "metadata": {},
   "outputs": [],
   "source": [
    "posts_vect_df = pd.DataFrame(posts_vect.toarray(), columns = cvect.get_feature_names())"
   ]
  },
  {
   "cell_type": "code",
   "execution_count": 16,
   "metadata": {},
   "outputs": [
    {
     "data": {
      "image/png": "[encoded data removed]",
      "text/plain": [
       "<Figure size 576x360 with 1 Axes>"
      ]
     },
     "metadata": {},
     "output_type": "display_data"
    }
   ],
   "source": [
    "plt.subplots(figsize=(8,5))\n",
    "posts_vect_df.sum().nlargest(15).plot(kind='barh', color='teal', fontsize=15)\n",
    "plt.title('Top 15 Most Frequent Words');\n",
    "plt.xticks(rotation=45);"
   ]
  },
  {
   "cell_type": "code",
   "execution_count": 17,
   "metadata": {},
   "outputs": [],
   "source": [
    "intro_vect = cvect.fit_transform(mb_df[mb_df['intro_vs_extro']=='I']['posts'])"
   ]
  },
  {
   "cell_type": "code",
   "execution_count": 18,
   "metadata": {},
   "outputs": [
    {
     "data": {
      "image/png": "[encoded data removed]",
      "text/plain": [
       "<Figure size 576x360 with 1 Axes>"
      ]
     },
     "metadata": {},
     "output_type": "display_data"
    }
   ],
   "source": [
    "intro_vect_df = pd.DataFrame(intro_vect.toarray(), columns = cvect.get_feature_names())\n",
    "plt.subplots(figsize=(8,5))\n",
    "intro_vect_df.sum().nlargest(15).plot(kind='barh', color='teal', fontsize=15)\n",
    "plt.title('Top 15 Most Frequent Words - Introverts');\n",
    "plt.xticks(rotation=45);"
   ]
  },
  {
   "cell_type": "code",
   "execution_count": 19,
   "metadata": {},
   "outputs": [],
   "source": [
    "extro_vect = cvect.fit_transform(mb_df[mb_df['intro_vs_extro']=='E']['posts'])"
   ]
  },
  {
   "cell_type": "code",
   "execution_count": 20,
   "metadata": {},
   "outputs": [
    {
     "data": {
      "image/png": "[encoded data removed]",
      "text/plain": [
       "<Figure size 576x360 with 1 Axes>"
      ]
     },
     "metadata": {},
     "output_type": "display_data"
    }
   ],
   "source": [
    "extro_vect_df = pd.DataFrame(extro_vect.toarray(), columns = cvect.get_feature_names())\n",
    "plt.subplots(figsize=(8,5))\n",
    "extro_vect_df.sum().nlargest(15).plot(kind='barh', color='teal', fontsize=15)\n",
    "plt.title('Top 15 Most Frequent Words - Extroverts');\n",
    "plt.xticks(rotation=45);"
   ]
  },
  {
   "cell_type": "code",
   "execution_count": 21,
   "metadata": {},
   "outputs": [],
   "source": [
    "cvect2 = CountVectorizer(ngram_range=(2,2), max_features=200)"
   ]
  },
  {
   "cell_type": "code",
   "execution_count": 22,
   "metadata": {},
   "outputs": [],
   "source": [
    "posts_vect2 = cvect2.fit_transform(mb_df['posts'])"
   ]
  },
  {
   "cell_type": "code",
   "execution_count": 23,
   "metadata": {},
   "outputs": [],
   "source": [
    "posts_vect2_df = pd.DataFrame(posts_vect2.toarray(), columns = cvect2.get_feature_names())"
   ]
  },
  {
   "cell_type": "code",
   "execution_count": 24,
   "metadata": {},
   "outputs": [
    {
     "data": {
      "image/png": "[encoded data removed]",
      "text/plain": [
       "<Figure size 576x360 with 1 Axes>"
      ]
     },
     "metadata": {},
     "output_type": "display_data"
    }
   ],
   "source": [
    "plt.subplots(figsize=(8,5))\n",
    "posts_vect2_df.sum().nlargest(15).plot(kind='barh', color='blue', fontsize=15)\n",
    "plt.title('Top 15 Most Frequent Bigrams');\n",
    "plt.xticks(rotation=45);"
   ]
  },
  {
   "cell_type": "markdown",
   "metadata": {},
   "source": [
    "### Model the data"
   ]
  },
  {
   "cell_type": "code",
   "execution_count": 25,
   "metadata": {},
   "outputs": [],
   "source": [
    "X = mb_df['posts']\n",
    "y = mb_df['type']"
   ]
  },
  {
   "cell_type": "code",
   "execution_count": 26,
   "metadata": {},
   "outputs": [],
   "source": [
    "X_train, X_test, y_train, y_test = train_test_split(X, y, random_state = 22, stratify=y)"
   ]
  },
  {
   "cell_type": "code",
   "execution_count": 30,
   "metadata": {},
   "outputs": [],
   "source": [
    "pipe = make_pipeline(CountVectorizer(stop_words = 'english'), MultinomialNB())\n",
    "\n",
    "params = {\n",
    "    'countvectorizer__max_features': [200, 500, 1000],\n",
    "#     'countvectorizer__ngram_range': [(1,1), (1,2), (1,3)]\n",
    "}\n",
    "\n",
    "grid = GridSearchCV(pipe, params, n_jobs=-1)"
   ]
  },
  {
   "cell_type": "code",
   "execution_count": 31,
   "metadata": {},
   "outputs": [
    {
     "data": {
      "text/plain": [
       "GridSearchCV(estimator=Pipeline(steps=[('countvectorizer',\n",
       "                                        CountVectorizer(stop_words='english')),\n",
       "                                       ('multinomialnb', MultinomialNB())]),\n",
       "             n_jobs=-1,\n",
       "             param_grid={'countvectorizer__max_features': [200, 500, 1000]})"
      ]
     },
     "execution_count": 31,
     "metadata": {},
     "output_type": "execute_result"
    }
   ],
   "source": [
    "grid.fit(X_train, y_train)"
   ]
  },
  {
   "cell_type": "code",
   "execution_count": 32,
   "metadata": {},
   "outputs": [
    {
     "name": "stdout",
     "output_type": "stream",
     "text": [
      "Train score:  0.6163541346449432\n",
      "Test score:  0.5527893038266483\n"
     ]
    }
   ],
   "source": [
    "print('Train score: ', grid.score(X_train, y_train))\n",
    "print('Test score: ', grid.score(X_test, y_test))"
   ]
  },
  {
   "cell_type": "code",
   "execution_count": 33,
   "metadata": {},
   "outputs": [
    {
     "data": {
      "text/plain": [
       "{'countvectorizer__max_features': 500}"
      ]
     },
     "execution_count": 33,
     "metadata": {},
     "output_type": "execute_result"
    }
   ],
   "source": [
    "grid.best_params_"
   ]
  },
  {
   "cell_type": "code",
   "execution_count": null,
   "metadata": {},
   "outputs": [],
   "source": [
    "pipe2 = make_pipeline(CountVectorizer(stop_words = 'english', max_features = 500), RandomForestClassifier())\n",
    "\n",
    "params2 = {\n",
    "    'randomforestclassifier__n_estimators': [100, 500],\n",
    "    'randomforestclassifier__max_depth': [25, 50, 100], \n",
    "}\n",
    "\n",
    "grid2 = GridSearchCV(pipe, params, n_jobs=-1)"
   ]
  }
 ],
 "metadata": {
  "kernelspec": {
   "display_name": "Python 3",
   "language": "python",
   "name": "python3"
  },
  "language_info": {
   "codemirror_mode": {
    "name": "ipython",
    "version": 3
   },
   "file_extension": ".py",
   "mimetype": "text/x-python",
   "name": "python",
   "nbconvert_exporter": "python",
   "pygments_lexer": "ipython3",
   "version": "3.8.3"
  }
 },
 "nbformat": 4,
 "nbformat_minor": 4
}
